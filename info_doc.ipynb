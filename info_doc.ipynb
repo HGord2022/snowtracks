{
 "cells": [
  {
   "cell_type": "markdown",
   "metadata": {},
   "source": [
    "```markdown\n",
    "### Displaying Figures\n",
    "\n",
    "The figures in the `./figures/comp3/all_cov` directory can be displayed using the following code:\n",
    "\n",
    "```python\n",
    "import os\n",
    "import matplotlib.pyplot as plt\n",
    "import matplotlib.image as mpimg\n",
    "\n",
    "figures_path = './figures/comp3/all_cov'\n",
    "figures = [f for f in os.listdir(figures_path) if f.endswith('.png') or f.endswith('.jpg')]\n",
    "\n",
    "for figure in figures:\n",
    "    img = mpimg.imread(os.path.join(figures_path, figure))\n",
    "    plt.figure()\n",
    "    plt.imshow(img)\n",
    "    plt.axis('off')\n",
    "    plt.title(figure)\n",
    "    plt.show()\n",
    "```\n",
    "```"
   ]
  }
 ],
 "metadata": {
  "kernelspec": {
   "display_name": "snowtracks",
   "language": "python",
   "name": "python3"
  },
  "language_info": {
   "codemirror_mode": {
    "name": "ipython",
    "version": 3
   },
   "file_extension": ".py",
   "mimetype": "text/x-python",
   "name": "python",
   "nbconvert_exporter": "python",
   "pygments_lexer": "ipython3",
   "version": "3.13.2"
  }
 },
 "nbformat": 4,
 "nbformat_minor": 2
}
